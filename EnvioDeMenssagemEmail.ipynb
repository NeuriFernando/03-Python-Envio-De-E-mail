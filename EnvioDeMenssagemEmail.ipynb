{
 "cells": [
  {
   "cell_type": "code",
   "execution_count": 1,
   "id": "7856629c",
   "metadata": {},
   "outputs": [
    {
     "data": {
      "text/html": [
       "<div>\n",
       "<style scoped>\n",
       "    .dataframe tbody tr th:only-of-type {\n",
       "        vertical-align: middle;\n",
       "    }\n",
       "\n",
       "    .dataframe tbody tr th {\n",
       "        vertical-align: top;\n",
       "    }\n",
       "\n",
       "    .dataframe thead th {\n",
       "        text-align: right;\n",
       "    }\n",
       "</style>\n",
       "<table border=\"1\" class=\"dataframe\">\n",
       "  <thead>\n",
       "    <tr style=\"text-align: right;\">\n",
       "      <th></th>\n",
       "      <th>Chave</th>\n",
       "      <th>Email</th>\n",
       "      <th>Modelo</th>\n",
       "    </tr>\n",
       "  </thead>\n",
       "  <tbody>\n",
       "    <tr>\n",
       "      <th>0</th>\n",
       "      <td>1234</td>\n",
       "      <td>exemplo1@outlook.com.br</td>\n",
       "      <td>Novo</td>\n",
       "    </tr>\n",
       "    <tr>\n",
       "      <th>1</th>\n",
       "      <td>1235</td>\n",
       "      <td>exemplo2@outlook.com.br</td>\n",
       "      <td>Novo</td>\n",
       "    </tr>\n",
       "    <tr>\n",
       "      <th>2</th>\n",
       "      <td>1236</td>\n",
       "      <td>exemplo3@outlook.com.br</td>\n",
       "      <td>Novo</td>\n",
       "    </tr>\n",
       "    <tr>\n",
       "      <th>3</th>\n",
       "      <td>1237</td>\n",
       "      <td>exemplo4@outlook.com.br</td>\n",
       "      <td>Novo</td>\n",
       "    </tr>\n",
       "  </tbody>\n",
       "</table>\n",
       "</div>"
      ],
      "text/plain": [
       "   Chave                    Email Modelo\n",
       "0   1234  exemplo1@outlook.com.br   Novo\n",
       "1   1235  exemplo2@outlook.com.br   Novo\n",
       "2   1236  exemplo3@outlook.com.br   Novo\n",
       "3   1237  exemplo4@outlook.com.br   Novo"
      ]
     },
     "metadata": {},
     "output_type": "display_data"
    }
   ],
   "source": [
    "import pandas as pd\n",
    "\n",
    "contatos_df = pd.read_excel(\"Emails.xlsx\")\n",
    "display(contatos_df)"
   ]
  },
  {
   "cell_type": "code",
   "execution_count": 5,
   "id": "6c00addd",
   "metadata": {},
   "outputs": [
    {
     "name": "stdout",
     "output_type": "stream",
     "text": [
      "[[1234, 'exemplo1@outlook.com.br', 'Novo'], [1235, 'exemplo2@outlook.com.br', 'Novo'], [1236, 'exemplo3@outlook.com.br', 'Novo'], [1237, 'exemplo4@outlook.com.br', 'Novo']]\n"
     ]
    }
   ],
   "source": [
    "dados = contatos_df[['Chave','Email','Modelo' ]].values.tolist()\n",
    "print (dados)"
   ]
  },
  {
   "cell_type": "code",
   "execution_count": 6,
   "id": "4e007c57",
   "metadata": {},
   "outputs": [],
   "source": [
    "corpo_mensagem = \"\"\"\n",
    "Descrever aqui o corpo do e-mail\n",
    "\"\"\""
   ]
  },
  {
   "cell_type": "code",
   "execution_count": 7,
   "id": "2ca2d09d",
   "metadata": {},
   "outputs": [],
   "source": [
    "from selenium import webdriver\n",
    "from selenium.webdriver.common.keys import Keys\n",
    "from selenium.webdriver.common.action_chains import ActionChains\n",
    "import time\n",
    "import pyautogui\n",
    "import time\n",
    "import pyperclip\n",
    "\n",
    "# Passo 1: Abrir navegador\n",
    "navegador = webdriver.Chrome()\n",
    "navegador.maximize_window()\n",
    "navegador.implicitly_wait(30)\n",
    "navegador.set_page_load_timeout(220)\n",
    "navegador.get(\"https://outlook.office.com\")\n",
    "\n",
    "#Passo 2: Inserir chave e senha para acessar a aplicação\n",
    "navegador.find_element('xpath', '//*[@id=\"i0116\"]').send_keys(\"Seu email de acesso\")\n",
    "navegador.find_element('xpath', '//*[@id=\"i0116\"]').send_keys(Keys.ENTER)\n",
    "navegador.find_element('xpath', '//*[@id=\"passwordInput\"]').send_keys(\"Sua senha de acesso\")\n",
    "navegador.find_element('xpath', '//*[@id=\"passwordInput\"]').send_keys(Keys.ENTER)\n",
    "navegador.find_element('xpath', '//*[@id=\"idSIButton9\"]').send_keys(Keys.ENTER)"
   ]
  },
  {
   "cell_type": "code",
   "execution_count": 8,
   "id": "9cffd4b0",
   "metadata": {},
   "outputs": [],
   "source": [
    "for dado in dados:\n",
    "    navegador.find_element('xpath', '//*[@id=\"innerRibbonContainer\"]/div[1]/div/div/div/div[2]/div/div/span/button[1]').click()\n",
    "    time.sleep(2)\n",
    "    navegador.find_element('xpath', '/html/body/div[2]/div/div[2]/div[2]/div[2]/div/div/div/div[3]/div/div[3]/div[3]/div[1]/div/div/div/div[1]/div[1]/div/div[4]/div/div/div[1]').send_keys(dado)\n",
    "    navegador.find_element('xpath', '/html/body/div[2]/div/div[2]/div[2]/div[2]/div/div/div/div[3]/div/div[3]/div[3]/div[1]/div/div/div/div[1]/div[2]/div[2]/div/div/div/input').send_keys(\"Agendamento para Bitlocker - LUBRAX\")\n",
    "    navegador.find_element('xpath', '/html/body/div[2]/div/div[2]/div[2]/div[2]/div/div/div/div[3]/div/div[3]/div[3]/div[1]/div/div/div/div[2]/div/div/div/div[1]').send_keys(corpo_mensagem)\n",
    "    navegador.find_element('xpath', '/html/body/div[2]/div/div[2]/div[2]/div[2]/div/div/div/div[3]/div/div[3]/div[3]/div[1]/div/div/div/div[3]/div[3]/div[1]/div/div/span/button[1]').click()\n",
    "    time.sleep(4)"
   ]
  }
 ],
 "metadata": {
  "kernelspec": {
   "display_name": "Python 3 (ipykernel)",
   "language": "python",
   "name": "python3"
  },
  "language_info": {
   "codemirror_mode": {
    "name": "ipython",
    "version": 3
   },
   "file_extension": ".py",
   "mimetype": "text/x-python",
   "name": "python",
   "nbconvert_exporter": "python",
   "pygments_lexer": "ipython3",
   "version": "3.9.12"
  }
 },
 "nbformat": 4,
 "nbformat_minor": 5
}
